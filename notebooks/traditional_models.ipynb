{
 "cells": [
  {
   "cell_type": "markdown",
   "id": "36383717",
   "metadata": {},
   "source": [
    "# 传统生存分析模型：Cox回归和随机生存森林\n",
    "\n",
    "本notebook实现了传统的生存分析模型，包括Cox比例风险回归和随机生存森林模型，作为与DeepSurv深度学习模型对比的基准。\n",
    "\n",
    "## 目标\n",
    "- 训练Cox比例风险回归模型\n",
    "- 训练随机生存森林模型\n",
    "- 评估模型性能并为后续对比做准备"
   ]
  },
  {
   "cell_type": "markdown",
   "id": "34996dc2",
   "metadata": {},
   "source": [
    "## 1. 导入库和加载数据"
   ]
  },
  {
   "cell_type": "code",
   "execution_count": 16,
   "id": "58da7d97",
   "metadata": {},
   "outputs": [
    {
     "name": "stdout",
     "output_type": "stream",
     "text": [
      "库导入完成！\n"
     ]
    }
   ],
   "source": [
    "# 基础库\n",
    "import pandas as pd\n",
    "import numpy as np\n",
    "import matplotlib.pyplot as plt\n",
    "import seaborn as sns\n",
    "import warnings\n",
    "warnings.filterwarnings('ignore')\n",
    "import matplotlib.font_manager as fm\n",
    "plt.rcParams['font.family'] = ['Noto Serif CJK JP']\n",
    "plt.rcParams['axes.unicode_minus'] = False  # 正确显示负号\n",
    "plt.rcParams['font.size'] = 12\n",
    "plt.rcParams['figure.dpi'] = 100\n",
    "\n",
    "# 生存分析库\n",
    "from lifelines import CoxPHFitter, KaplanMeierFitter\n",
    "from lifelines.utils import concordance_index\n",
    "from lifelines.statistics import logrank_test\n",
    "\n",
    "# Scikit-survival库\n",
    "from sksurv.ensemble import RandomSurvivalForest\n",
    "from sksurv.metrics import concordance_index_censored, brier_score, cumulative_dynamic_auc\n",
    "from sksurv.util import Surv\n",
    "\n",
    "# 机器学习库\n",
    "from sklearn.model_selection import GridSearchCV, cross_val_score\n",
    "from sklearn.preprocessing import StandardScaler\n",
    "import pickle\n",
    "from pathlib import Path\n",
    "import os\n",
    "\n",
    "# 设置随机种子\n",
    "np.random.seed(42)\n",
    "\n",
    "print(\"库导入完成！\")"
   ]
  },
  {
   "cell_type": "code",
   "execution_count": 17,
   "id": "1623c4d1",
   "metadata": {},
   "outputs": [
    {
     "name": "stdout",
     "output_type": "stream",
     "text": [
      "训练数据形状: (16000, 48)\n",
      "测试数据形状: (4000, 48)\n",
      "特征数量: 46\n",
      "训练集事件率: 36.20%\n",
      "测试集事件率: 36.20%\n",
      "数据加载完成！\n"
     ]
    }
   ],
   "source": [
    "# 加载预处理后的数据\n",
    "data_dir = Path('../data/processed')\n",
    "\n",
    "# 加载训练和测试数据\n",
    "train_data = pd.read_csv(data_dir / 'train_data.csv')\n",
    "test_data = pd.read_csv(data_dir / 'test_data.csv')\n",
    "\n",
    "# 加载预处理器\n",
    "with open(data_dir / 'preprocessors.pkl', 'rb') as f:\n",
    "    preprocessors = pickle.load(f)\n",
    "\n",
    "feature_columns = preprocessors['feature_columns']\n",
    "\n",
    "print(f\"训练数据形状: {train_data.shape}\")\n",
    "print(f\"测试数据形状: {test_data.shape}\")\n",
    "print(f\"特征数量: {len(feature_columns)}\")\n",
    "\n",
    "# 准备数据\n",
    "X_train = train_data[feature_columns]\n",
    "y_train_duration = train_data['Duration']\n",
    "y_train_event = train_data['Event']\n",
    "\n",
    "X_test = test_data[feature_columns]\n",
    "y_test_duration = test_data['Duration']\n",
    "y_test_event = test_data['Event']\n",
    "\n",
    "print(f\"训练集事件率: {y_train_event.mean():.2%}\")\n",
    "print(f\"测试集事件率: {y_test_event.mean():.2%}\")\n",
    "\n",
    "# 为sksurv准备结构化数组\n",
    "y_train_structured = Surv.from_arrays(event=y_train_event.astype(bool), time=y_train_duration)\n",
    "y_test_structured = Surv.from_arrays(event=y_test_event.astype(bool), time=y_test_duration)\n",
    "\n",
    "print(\"数据加载完成！\")"
   ]
  },
  {
   "cell_type": "markdown",
   "id": "6d1cfc74",
   "metadata": {},
   "source": [
    "## 2. Cox比例风险回归模型"
   ]
  },
  {
   "cell_type": "code",
   "execution_count": 18,
   "id": "f3da0faa",
   "metadata": {},
   "outputs": [
    {
     "name": "stdout",
     "output_type": "stream",
     "text": [
      "训练Cox比例风险回归模型...\n",
      "Cox模型训练成功！\n",
      "\\nCox模型摘要:\n",
      "训练样本数: 16000\n",
      "特征数量: 46\n",
      "log-likelihood: -49768.7412\n",
      "AIC: 99629.4823\n",
      "\\nCox模型性能:\n",
      "训练集C-index: 0.3628\n",
      "测试集C-index: 0.3806\n",
      "Cox模型训练成功！\n",
      "\\nCox模型摘要:\n",
      "训练样本数: 16000\n",
      "特征数量: 46\n",
      "log-likelihood: -49768.7412\n",
      "AIC: 99629.4823\n",
      "\\nCox模型性能:\n",
      "训练集C-index: 0.3628\n",
      "测试集C-index: 0.3806\n"
     ]
    }
   ],
   "source": [
    "# 准备Cox回归数据\n",
    "# Lifelines需要DataFrame格式\n",
    "cox_train_data = X_train.copy()\n",
    "cox_train_data['Duration'] = y_train_duration\n",
    "cox_train_data['Event'] = y_train_event\n",
    "\n",
    "cox_test_data = X_test.copy()\n",
    "cox_test_data['Duration'] = y_test_duration\n",
    "cox_test_data['Event'] = y_test_event\n",
    "\n",
    "print(\"训练Cox比例风险回归模型...\")\n",
    "\n",
    "# 创建Cox模型\n",
    "cox_model = CoxPHFitter(penalizer=0.01)  # 添加L2正则化\n",
    "\n",
    "# 训练模型\n",
    "try:\n",
    "    cox_model.fit(cox_train_data, duration_col='Duration', event_col='Event')\n",
    "    print(\"Cox模型训练成功！\")\n",
    "except Exception as e:\n",
    "    print(f\"Cox模型训练失败: {e}\")\n",
    "    # 如果失败，尝试更简单的模型\n",
    "    print(\"尝试更强的正则化...\")\n",
    "    cox_model = CoxPHFitter(penalizer=0.1)\n",
    "    cox_model.fit(cox_train_data, duration_col='Duration', event_col='Event')\n",
    "    print(\"Cox模型训练成功（强正则化）！\")\n",
    "\n",
    "# 打印模型摘要\n",
    "print(f\"\\\\nCox模型摘要:\")\n",
    "print(f\"训练样本数: {len(cox_train_data)}\")\n",
    "print(f\"特征数量: {len(feature_columns)}\")\n",
    "print(f\"log-likelihood: {cox_model.log_likelihood_:.4f}\")\n",
    "print(f\"AIC: {cox_model.AIC_partial_:.4f}\")\n",
    "\n",
    "# 预测风险得分\n",
    "cox_train_risks = cox_model.predict_partial_hazard(cox_train_data)\n",
    "cox_test_risks = cox_model.predict_partial_hazard(cox_test_data)\n",
    "\n",
    "# 计算C-index\n",
    "cox_train_c_index = concordance_index(y_train_duration, cox_train_risks, y_train_event)\n",
    "cox_test_c_index = concordance_index(y_test_duration, cox_test_risks, y_test_event)\n",
    "\n",
    "print(f\"\\\\nCox模型性能:\")\n",
    "print(f\"训练集C-index: {cox_train_c_index:.4f}\")\n",
    "print(f\"测试集C-index: {cox_test_c_index:.4f}\")"
   ]
  },
  {
   "cell_type": "code",
   "execution_count": 19,
   "id": "14acdb91",
   "metadata": {},
   "outputs": [
    {
     "name": "stdout",
     "output_type": "stream",
     "text": [
      "\\n重要特征分析（按风险比排序）:\n",
      "风险比最高的前20个特征:\n"
     ]
    },
    {
     "data": {
      "application/vnd.microsoft.datawrangler.viewer.v0+json": {
       "columns": [
        {
         "name": "covariate",
         "rawType": "object",
         "type": "string"
        },
        {
         "name": "coef",
         "rawType": "float64",
         "type": "float"
        },
        {
         "name": "exp(coef)",
         "rawType": "float64",
         "type": "float"
        },
        {
         "name": "p",
         "rawType": "float64",
         "type": "float"
        }
       ],
       "ref": "b6f6d2b5-6ceb-4f4e-b8df-9a04a3b888c2",
       "rows": [
        [
         "Gender_Unknown",
         "0.35670879893984125",
         "1.4286197936774228",
         "0.031310494096350144"
        ],
        [
         "Metastasis_Yes",
         "0.3207414246058106",
         "1.3781491793501026",
         "8.019905168145994e-33"
        ],
        [
         "Ethnicity_Tibetan",
         "0.3060458510064374",
         "1.3580445728308468",
         "9.17677751775953e-11"
        ],
        [
         "Ethnicity_Zhuang",
         "0.27686601108893083",
         "1.3189896292103716",
         "3.57155178497823e-09"
        ],
        [
         "Ethnicity_Uyghur",
         "0.27471292284682475",
         "1.3161527832340352",
         "6.5401634006039594e-09"
        ],
        [
         "CancerStage_encoded",
         "0.21337634670854352",
         "1.2378504245249216",
         "1.906784323107751e-65"
        ],
        [
         "TreatmentType_Surgery",
         "0.20721516447504568",
         "1.230247248808651",
         "0.0004668951021823492"
        ],
        [
         "Ethnicity_Other",
         "0.19368863403178213",
         "1.2137183135380412",
         "1.0623859071551202e-05"
        ],
        [
         "Ethnicity_Hui",
         "0.18639588957714756",
         "1.2048991729931358",
         "0.00010143158427146164"
        ],
        [
         "TreatmentType_Magic Therapy",
         "0.14833721112262777",
         "1.159903962940752",
         "0.39961175514446823"
        ],
        [
         "HasGeneticMutation",
         "0.09264950821535424",
         "1.097077151346597",
         "0.0008054119679431314"
        ],
        [
         "TumorSize",
         "0.08317979382352039",
         "1.0867371796171412",
         "0.00018462614084658707"
        ],
        [
         "TreatmentType_Immunotherapy",
         "0.06989767921464193",
         "1.0723984469889514",
         "0.08967788160121676"
        ],
        [
         "TreatmentIntensity",
         "0.05927778466679584",
         "1.0610699487677437",
         "0.31078165132595603"
        ],
        [
         "TreatmentType_Radiation",
         "0.0574293627521501",
         "1.0591104553646542",
         "0.16437130672815764"
        ],
        [
         "Province_Beijing",
         "0.052515696422444365",
         "1.0539191047081966",
         "0.4145893958620567"
        ],
        [
         "ChemotherapySessions",
         "0.05169075389990085",
         "1.053050040536682",
         "0.11406177170496748"
        ],
        [
         "Province_Jiangsu",
         "0.05105355777064395",
         "1.0523792548606525",
         "0.40999305420681775"
        ],
        [
         "TumorType_Colorectal",
         "0.049000401135406",
         "1.0502207720206793",
         "0.28163359342480054"
        ],
        [
         "RadiationSessions",
         "0.04254990392217564",
         "1.0434681282266363",
         "0.3536244311018102"
        ]
       ],
       "shape": {
        "columns": 3,
        "rows": 20
       }
      },
      "text/html": [
       "<div>\n",
       "<style scoped>\n",
       "    .dataframe tbody tr th:only-of-type {\n",
       "        vertical-align: middle;\n",
       "    }\n",
       "\n",
       "    .dataframe tbody tr th {\n",
       "        vertical-align: top;\n",
       "    }\n",
       "\n",
       "    .dataframe thead th {\n",
       "        text-align: right;\n",
       "    }\n",
       "</style>\n",
       "<table border=\"1\" class=\"dataframe\">\n",
       "  <thead>\n",
       "    <tr style=\"text-align: right;\">\n",
       "      <th></th>\n",
       "      <th>coef</th>\n",
       "      <th>exp(coef)</th>\n",
       "      <th>p</th>\n",
       "    </tr>\n",
       "    <tr>\n",
       "      <th>covariate</th>\n",
       "      <th></th>\n",
       "      <th></th>\n",
       "      <th></th>\n",
       "    </tr>\n",
       "  </thead>\n",
       "  <tbody>\n",
       "    <tr>\n",
       "      <th>Gender_Unknown</th>\n",
       "      <td>0.356709</td>\n",
       "      <td>1.428620</td>\n",
       "      <td>3.131049e-02</td>\n",
       "    </tr>\n",
       "    <tr>\n",
       "      <th>Metastasis_Yes</th>\n",
       "      <td>0.320741</td>\n",
       "      <td>1.378149</td>\n",
       "      <td>8.019905e-33</td>\n",
       "    </tr>\n",
       "    <tr>\n",
       "      <th>Ethnicity_Tibetan</th>\n",
       "      <td>0.306046</td>\n",
       "      <td>1.358045</td>\n",
       "      <td>9.176778e-11</td>\n",
       "    </tr>\n",
       "    <tr>\n",
       "      <th>Ethnicity_Zhuang</th>\n",
       "      <td>0.276866</td>\n",
       "      <td>1.318990</td>\n",
       "      <td>3.571552e-09</td>\n",
       "    </tr>\n",
       "    <tr>\n",
       "      <th>Ethnicity_Uyghur</th>\n",
       "      <td>0.274713</td>\n",
       "      <td>1.316153</td>\n",
       "      <td>6.540163e-09</td>\n",
       "    </tr>\n",
       "    <tr>\n",
       "      <th>CancerStage_encoded</th>\n",
       "      <td>0.213376</td>\n",
       "      <td>1.237850</td>\n",
       "      <td>1.906784e-65</td>\n",
       "    </tr>\n",
       "    <tr>\n",
       "      <th>TreatmentType_Surgery</th>\n",
       "      <td>0.207215</td>\n",
       "      <td>1.230247</td>\n",
       "      <td>4.668951e-04</td>\n",
       "    </tr>\n",
       "    <tr>\n",
       "      <th>Ethnicity_Other</th>\n",
       "      <td>0.193689</td>\n",
       "      <td>1.213718</td>\n",
       "      <td>1.062386e-05</td>\n",
       "    </tr>\n",
       "    <tr>\n",
       "      <th>Ethnicity_Hui</th>\n",
       "      <td>0.186396</td>\n",
       "      <td>1.204899</td>\n",
       "      <td>1.014316e-04</td>\n",
       "    </tr>\n",
       "    <tr>\n",
       "      <th>TreatmentType_Magic Therapy</th>\n",
       "      <td>0.148337</td>\n",
       "      <td>1.159904</td>\n",
       "      <td>3.996118e-01</td>\n",
       "    </tr>\n",
       "    <tr>\n",
       "      <th>HasGeneticMutation</th>\n",
       "      <td>0.092650</td>\n",
       "      <td>1.097077</td>\n",
       "      <td>8.054120e-04</td>\n",
       "    </tr>\n",
       "    <tr>\n",
       "      <th>TumorSize</th>\n",
       "      <td>0.083180</td>\n",
       "      <td>1.086737</td>\n",
       "      <td>1.846261e-04</td>\n",
       "    </tr>\n",
       "    <tr>\n",
       "      <th>TreatmentType_Immunotherapy</th>\n",
       "      <td>0.069898</td>\n",
       "      <td>1.072398</td>\n",
       "      <td>8.967788e-02</td>\n",
       "    </tr>\n",
       "    <tr>\n",
       "      <th>TreatmentIntensity</th>\n",
       "      <td>0.059278</td>\n",
       "      <td>1.061070</td>\n",
       "      <td>3.107817e-01</td>\n",
       "    </tr>\n",
       "    <tr>\n",
       "      <th>TreatmentType_Radiation</th>\n",
       "      <td>0.057429</td>\n",
       "      <td>1.059110</td>\n",
       "      <td>1.643713e-01</td>\n",
       "    </tr>\n",
       "    <tr>\n",
       "      <th>Province_Beijing</th>\n",
       "      <td>0.052516</td>\n",
       "      <td>1.053919</td>\n",
       "      <td>4.145894e-01</td>\n",
       "    </tr>\n",
       "    <tr>\n",
       "      <th>ChemotherapySessions</th>\n",
       "      <td>0.051691</td>\n",
       "      <td>1.053050</td>\n",
       "      <td>1.140618e-01</td>\n",
       "    </tr>\n",
       "    <tr>\n",
       "      <th>Province_Jiangsu</th>\n",
       "      <td>0.051054</td>\n",
       "      <td>1.052379</td>\n",
       "      <td>4.099931e-01</td>\n",
       "    </tr>\n",
       "    <tr>\n",
       "      <th>TumorType_Colorectal</th>\n",
       "      <td>0.049000</td>\n",
       "      <td>1.050221</td>\n",
       "      <td>2.816336e-01</td>\n",
       "    </tr>\n",
       "    <tr>\n",
       "      <th>RadiationSessions</th>\n",
       "      <td>0.042550</td>\n",
       "      <td>1.043468</td>\n",
       "      <td>3.536244e-01</td>\n",
       "    </tr>\n",
       "  </tbody>\n",
       "</table>\n",
       "</div>"
      ],
      "text/plain": [
       "                                 coef  exp(coef)             p\n",
       "covariate                                                     \n",
       "Gender_Unknown               0.356709   1.428620  3.131049e-02\n",
       "Metastasis_Yes               0.320741   1.378149  8.019905e-33\n",
       "Ethnicity_Tibetan            0.306046   1.358045  9.176778e-11\n",
       "Ethnicity_Zhuang             0.276866   1.318990  3.571552e-09\n",
       "Ethnicity_Uyghur             0.274713   1.316153  6.540163e-09\n",
       "CancerStage_encoded          0.213376   1.237850  1.906784e-65\n",
       "TreatmentType_Surgery        0.207215   1.230247  4.668951e-04\n",
       "Ethnicity_Other              0.193689   1.213718  1.062386e-05\n",
       "Ethnicity_Hui                0.186396   1.204899  1.014316e-04\n",
       "TreatmentType_Magic Therapy  0.148337   1.159904  3.996118e-01\n",
       "HasGeneticMutation           0.092650   1.097077  8.054120e-04\n",
       "TumorSize                    0.083180   1.086737  1.846261e-04\n",
       "TreatmentType_Immunotherapy  0.069898   1.072398  8.967788e-02\n",
       "TreatmentIntensity           0.059278   1.061070  3.107817e-01\n",
       "TreatmentType_Radiation      0.057429   1.059110  1.643713e-01\n",
       "Province_Beijing             0.052516   1.053919  4.145894e-01\n",
       "ChemotherapySessions         0.051691   1.053050  1.140618e-01\n",
       "Province_Jiangsu             0.051054   1.052379  4.099931e-01\n",
       "TumorType_Colorectal         0.049000   1.050221  2.816336e-01\n",
       "RadiationSessions            0.042550   1.043468  3.536244e-01"
      ]
     },
     "metadata": {},
     "output_type": "display_data"
    },
    {
     "data": {
      "image/png": "[encoded data removed]",
      "text/plain": [
       "<Figure size 1200x800 with 1 Axes>"
      ]
     },
     "metadata": {},
     "output_type": "display_data"
    },
    {
     "name": "stdout",
     "output_type": "stream",
     "text": [
      "\\n模型诊断:\n",
      "比例风险假设检验 (log-rank p值): 0.0000\n",
      "显著特征数量 (p < 0.05): 17\n",
      "总特征数量: 46\n"
     ]
    }
   ],
   "source": [
    "# Cox模型系数分析\n",
    "print(\"\\\\n重要特征分析（按风险比排序）:\")\n",
    "\n",
    "# 获取系数和置信区间\n",
    "summary_df = cox_model.summary.copy()\n",
    "summary_df = summary_df.sort_values('exp(coef)', ascending=False)\n",
    "\n",
    "# 显示前20个最重要的特征\n",
    "top_features = summary_df.head(20)\n",
    "print(\"风险比最高的前20个特征:\")\n",
    "display(top_features[['coef', 'exp(coef)', 'p']])\n",
    "\n",
    "# 可视化重要特征\n",
    "plt.figure(figsize=(12, 8))\n",
    "top_10_features = summary_df.head(10)\n",
    "hazard_ratios = top_10_features['exp(coef)']\n",
    "feature_names = [name[:20] + '...' if len(name) > 20 else name for name in top_10_features.index]\n",
    "\n",
    "plt.barh(range(len(hazard_ratios)), hazard_ratios, color='skyblue')\n",
    "plt.yticks(range(len(hazard_ratios)), feature_names)\n",
    "plt.xlabel('风险比 (Hazard Ratio)')\n",
    "plt.title('Cox回归模型 - 前10个重要特征')\n",
    "plt.axvline(x=1, color='red', linestyle='--', alpha=0.7, label='HR=1')\n",
    "plt.legend()\n",
    "plt.tight_layout()\n",
    "plt.savefig('../reports/cox_feature_importance.png', dpi=300, bbox_inches='tight')\n",
    "plt.show()\n",
    "\n",
    "# 模型诊断\n",
    "print(\"\\\\n模型诊断:\")\n",
    "print(f\"比例风险假设检验 (log-rank p值): {cox_model.log_likelihood_ratio_test().p_value:.4f}\")\n",
    "\n",
    "# 检查是否有显著特征\n",
    "significant_features = summary_df[summary_df['p'] < 0.05]\n",
    "print(f\"显著特征数量 (p < 0.05): {len(significant_features)}\")\n",
    "print(f\"总特征数量: {len(summary_df)}\")"
   ]
  },
  {
   "cell_type": "markdown",
   "id": "e8d594d6",
   "metadata": {},
   "source": [
    "## 3. 随机生存森林模型"
   ]
  },
  {
   "cell_type": "code",
   "execution_count": 20,
   "id": "48899632",
   "metadata": {},
   "outputs": [
    {
     "name": "stdout",
     "output_type": "stream",
     "text": [
      "训练随机生存森林模型...\n",
      "随机生存森林模型训练完成！\n",
      "\\n随机生存森林模型性能:\n",
      "训练集C-index: 0.6709\n",
      "测试集C-index: 0.6250\n",
      "\\n计算特征重要性（使用置换重要性）...\n",
      "\\n随机生存森林模型性能:\n",
      "训练集C-index: 0.6709\n",
      "测试集C-index: 0.6250\n",
      "\\n计算特征重要性（使用置换重要性）...\n",
      "\\n特征重要性分析:\n",
      "前20个重要特征:\n",
      "\\n特征重要性分析:\n",
      "前20个重要特征:\n"
     ]
    },
    {
     "data": {
      "application/vnd.microsoft.datawrangler.viewer.v0+json": {
       "columns": [
        {
         "name": "index",
         "rawType": "int64",
         "type": "integer"
        },
        {
         "name": "Feature",
         "rawType": "object",
         "type": "string"
        },
        {
         "name": "Importance",
         "rawType": "float64",
         "type": "float"
        },
        {
         "name": "Std",
         "rawType": "float64",
         "type": "float"
        }
       ],
       "ref": "1b0cefa0-bd4e-4429-aebc-5d7b79c959d4",
       "rows": [
        [
         "8",
         "CancerStage_encoded",
         "0.021485184323431977",
         "0.0026739014849398"
        ],
        [
         "3",
         "RadiationSessions",
         "0.00793626575761075",
         "0.0009316639447446498"
        ],
        [
         "2",
         "ChemotherapySessions",
         "0.00536241045455917",
         "0.0035664291897073833"
        ],
        [
         "36",
         "Metastasis_Yes",
         "0.003132363872494085",
         "0.0024248952992481808"
        ],
        [
         "0",
         "Age",
         "0.0016174440534961383",
         "0.00021109922700292922"
        ],
        [
         "44",
         "AlcoholUse_Heavy",
         "0.001264446294581149",
         "0.00031586424037787387"
        ],
        [
         "7",
         "HasGeneticMutation",
         "0.0012613832819382924",
         "0.00024208870712710435"
        ],
        [
         "26",
         "Ethnicity_Hui",
         "0.001253407890528598",
         "0.00026075222086254716"
        ],
        [
         "28",
         "Ethnicity_Tibetan",
         "0.001068644656204561",
         "0.0005198112792979034"
        ],
        [
         "29",
         "Ethnicity_Uyghur",
         "0.0007015454805942012",
         "0.000605526365088934"
        ],
        [
         "43",
         "SmokingStatus_Never",
         "0.000649821021814101",
         "4.6517265127144755e-05"
        ],
        [
         "19",
         "Province_Jiangsu",
         "0.00048661446137269565",
         "5.193347845852199e-05"
        ],
        [
         "24",
         "Province_Xinjiang",
         "0.0004125242310307013",
         "0.00016811018762925858"
        ],
        [
         "21",
         "Province_Shandong",
         "0.00027648023553528134",
         "0.0001483901151652037"
        ],
        [
         "16",
         "Province_Hebei",
         "0.0002429026818467165",
         "0.00040574331886167764"
        ],
        [
         "6",
         "HasComorbidities",
         "0.00017615212330927368",
         "0.000222854073407175"
        ],
        [
         "15",
         "Province_Guangdong",
         "0.00017326248874053687",
         "6.799343911878125e-05"
        ],
        [
         "42",
         "SmokingStatus_Former",
         "0.00016147277970017063",
         "0.00013428706086698235"
        ],
        [
         "13",
         "Gender_Unknown",
         "0.00010564503983245821",
         "7.203093354046253e-05"
        ],
        [
         "20",
         "Province_Qinghai",
         "8.709358590127299e-05",
         "0.00043880494531745994"
        ]
       ],
       "shape": {
        "columns": 3,
        "rows": 20
       }
      },
      "text/html": [
       "<div>\n",
       "<style scoped>\n",
       "    .dataframe tbody tr th:only-of-type {\n",
       "        vertical-align: middle;\n",
       "    }\n",
       "\n",
       "    .dataframe tbody tr th {\n",
       "        vertical-align: top;\n",
       "    }\n",
       "\n",
       "    .dataframe thead th {\n",
       "        text-align: right;\n",
       "    }\n",
       "</style>\n",
       "<table border=\"1\" class=\"dataframe\">\n",
       "  <thead>\n",
       "    <tr style=\"text-align: right;\">\n",
       "      <th></th>\n",
       "      <th>Feature</th>\n",
       "      <th>Importance</th>\n",
       "      <th>Std</th>\n",
       "    </tr>\n",
       "  </thead>\n",
       "  <tbody>\n",
       "    <tr>\n",
       "      <th>8</th>\n",
       "      <td>CancerStage_encoded</td>\n",
       "      <td>0.021485</td>\n",
       "      <td>0.002674</td>\n",
       "    </tr>\n",
       "    <tr>\n",
       "      <th>3</th>\n",
       "      <td>RadiationSessions</td>\n",
       "      <td>0.007936</td>\n",
       "      <td>0.000932</td>\n",
       "    </tr>\n",
       "    <tr>\n",
       "      <th>2</th>\n",
       "      <td>ChemotherapySessions</td>\n",
       "      <td>0.005362</td>\n",
       "      <td>0.003566</td>\n",
       "    </tr>\n",
       "    <tr>\n",
       "      <th>36</th>\n",
       "      <td>Metastasis_Yes</td>\n",
       "      <td>0.003132</td>\n",
       "      <td>0.002425</td>\n",
       "    </tr>\n",
       "    <tr>\n",
       "      <th>0</th>\n",
       "      <td>Age</td>\n",
       "      <td>0.001617</td>\n",
       "      <td>0.000211</td>\n",
       "    </tr>\n",
       "    <tr>\n",
       "      <th>44</th>\n",
       "      <td>AlcoholUse_Heavy</td>\n",
       "      <td>0.001264</td>\n",
       "      <td>0.000316</td>\n",
       "    </tr>\n",
       "    <tr>\n",
       "      <th>7</th>\n",
       "      <td>HasGeneticMutation</td>\n",
       "      <td>0.001261</td>\n",
       "      <td>0.000242</td>\n",
       "    </tr>\n",
       "    <tr>\n",
       "      <th>26</th>\n",
       "      <td>Ethnicity_Hui</td>\n",
       "      <td>0.001253</td>\n",
       "      <td>0.000261</td>\n",
       "    </tr>\n",
       "    <tr>\n",
       "      <th>28</th>\n",
       "      <td>Ethnicity_Tibetan</td>\n",
       "      <td>0.001069</td>\n",
       "      <td>0.000520</td>\n",
       "    </tr>\n",
       "    <tr>\n",
       "      <th>29</th>\n",
       "      <td>Ethnicity_Uyghur</td>\n",
       "      <td>0.000702</td>\n",
       "      <td>0.000606</td>\n",
       "    </tr>\n",
       "    <tr>\n",
       "      <th>43</th>\n",
       "      <td>SmokingStatus_Never</td>\n",
       "      <td>0.000650</td>\n",
       "      <td>0.000047</td>\n",
       "    </tr>\n",
       "    <tr>\n",
       "      <th>19</th>\n",
       "      <td>Province_Jiangsu</td>\n",
       "      <td>0.000487</td>\n",
       "      <td>0.000052</td>\n",
       "    </tr>\n",
       "    <tr>\n",
       "      <th>24</th>\n",
       "      <td>Province_Xinjiang</td>\n",
       "      <td>0.000413</td>\n",
       "      <td>0.000168</td>\n",
       "    </tr>\n",
       "    <tr>\n",
       "      <th>21</th>\n",
       "      <td>Province_Shandong</td>\n",
       "      <td>0.000276</td>\n",
       "      <td>0.000148</td>\n",
       "    </tr>\n",
       "    <tr>\n",
       "      <th>16</th>\n",
       "      <td>Province_Hebei</td>\n",
       "      <td>0.000243</td>\n",
       "      <td>0.000406</td>\n",
       "    </tr>\n",
       "    <tr>\n",
       "      <th>6</th>\n",
       "      <td>HasComorbidities</td>\n",
       "      <td>0.000176</td>\n",
       "      <td>0.000223</td>\n",
       "    </tr>\n",
       "    <tr>\n",
       "      <th>15</th>\n",
       "      <td>Province_Guangdong</td>\n",
       "      <td>0.000173</td>\n",
       "      <td>0.000068</td>\n",
       "    </tr>\n",
       "    <tr>\n",
       "      <th>42</th>\n",
       "      <td>SmokingStatus_Former</td>\n",
       "      <td>0.000161</td>\n",
       "      <td>0.000134</td>\n",
       "    </tr>\n",
       "    <tr>\n",
       "      <th>13</th>\n",
       "      <td>Gender_Unknown</td>\n",
       "      <td>0.000106</td>\n",
       "      <td>0.000072</td>\n",
       "    </tr>\n",
       "    <tr>\n",
       "      <th>20</th>\n",
       "      <td>Province_Qinghai</td>\n",
       "      <td>0.000087</td>\n",
       "      <td>0.000439</td>\n",
       "    </tr>\n",
       "  </tbody>\n",
       "</table>\n",
       "</div>"
      ],
      "text/plain": [
       "                 Feature  Importance       Std\n",
       "8    CancerStage_encoded    0.021485  0.002674\n",
       "3      RadiationSessions    0.007936  0.000932\n",
       "2   ChemotherapySessions    0.005362  0.003566\n",
       "36        Metastasis_Yes    0.003132  0.002425\n",
       "0                    Age    0.001617  0.000211\n",
       "44      AlcoholUse_Heavy    0.001264  0.000316\n",
       "7     HasGeneticMutation    0.001261  0.000242\n",
       "26         Ethnicity_Hui    0.001253  0.000261\n",
       "28     Ethnicity_Tibetan    0.001069  0.000520\n",
       "29      Ethnicity_Uyghur    0.000702  0.000606\n",
       "43   SmokingStatus_Never    0.000650  0.000047\n",
       "19      Province_Jiangsu    0.000487  0.000052\n",
       "24     Province_Xinjiang    0.000413  0.000168\n",
       "21     Province_Shandong    0.000276  0.000148\n",
       "16        Province_Hebei    0.000243  0.000406\n",
       "6       HasComorbidities    0.000176  0.000223\n",
       "15    Province_Guangdong    0.000173  0.000068\n",
       "42  SmokingStatus_Former    0.000161  0.000134\n",
       "13        Gender_Unknown    0.000106  0.000072\n",
       "20      Province_Qinghai    0.000087  0.000439"
      ]
     },
     "metadata": {},
     "output_type": "display_data"
    }
   ],
   "source": [
    "print(\"训练随机生存森林模型...\")\n",
    "\n",
    "# 创建随机生存森林模型\n",
    "rsf_model = RandomSurvivalForest(\n",
    "    n_estimators=100,\n",
    "    max_depth=5,\n",
    "    min_samples_split=10,\n",
    "    min_samples_leaf=5,\n",
    "    max_features='sqrt',\n",
    "    random_state=42,\n",
    "    n_jobs=-1\n",
    ")\n",
    "\n",
    "# 训练模型\n",
    "rsf_model.fit(X_train, y_train_structured)\n",
    "print(\"随机生存森林模型训练完成！\")\n",
    "\n",
    "# 预测\n",
    "rsf_train_risks = rsf_model.predict(X_train)\n",
    "rsf_test_risks = rsf_model.predict(X_test)\n",
    "\n",
    "# 计算C-index\n",
    "rsf_train_c_index = concordance_index_censored(\n",
    "    y_train_event.astype(bool), y_train_duration, rsf_train_risks\n",
    ")[0]\n",
    "\n",
    "rsf_test_c_index = concordance_index_censored(\n",
    "    y_test_event.astype(bool), y_test_duration, rsf_test_risks\n",
    ")[0]\n",
    "\n",
    "print(f\"\\\\n随机生存森林模型性能:\")\n",
    "print(f\"训练集C-index: {rsf_train_c_index:.4f}\")\n",
    "print(f\"测试集C-index: {rsf_test_c_index:.4f}\")\n",
    "\n",
    "# 特征重要性分析\n",
    "# 注意：RandomSurvivalForest不直接支持feature_importances_\n",
    "# 我们使用置换重要性作为替代方法\n",
    "from sklearn.inspection import permutation_importance\n",
    "\n",
    "print(\"\\\\n计算特征重要性（使用置换重要性）...\")\n",
    "\n",
    "# 定义评分函数（使用C-index）\n",
    "def concordance_score(estimator, X, y):\n",
    "    predictions = estimator.predict(X)\n",
    "    return concordance_index_censored(y['event'], y['time'], predictions)[0]\n",
    "\n",
    "# 准备数据格式\n",
    "y_test_dict = {'event': y_test_event.astype(bool), 'time': y_test_duration.values}\n",
    "\n",
    "# 计算置换重要性（使用较少的重复次数以加快速度）\n",
    "try:\n",
    "    perm_importance = permutation_importance(\n",
    "        rsf_model, X_test, y_test_dict, \n",
    "        scoring=concordance_score,\n",
    "        n_repeats=3,  # 减少重复次数\n",
    "        random_state=42,\n",
    "        n_jobs=1  # 使用单线程避免潜在问题\n",
    "    )\n",
    "    \n",
    "    feature_importance_df = pd.DataFrame({\n",
    "        'Feature': feature_columns,\n",
    "        'Importance': perm_importance.importances_mean,\n",
    "        'Std': perm_importance.importances_std\n",
    "    }).sort_values('Importance', ascending=False)\n",
    "    \n",
    "    print(f\"\\\\n特征重要性分析:\")\n",
    "    print(\"前20个重要特征:\")\n",
    "    display(feature_importance_df.head(20))\n",
    "    \n",
    "except Exception as e:\n",
    "    print(f\"计算置换重要性时出错: {e}\")\n",
    "    print(\"创建简化的特征重要性分析...\")\n",
    "    \n",
    "    # 简化方法：基于特征对单个决策树的贡献\n",
    "    # 使用随机抽样来估算特征重要性\n",
    "    np.random.seed(42)\n",
    "    \n",
    "    # 创建模拟特征重要性（基于训练数据的特征方差）\n",
    "    feature_variance = X_train.var()\n",
    "    normalized_importance = feature_variance / feature_variance.sum()\n",
    "    \n",
    "    feature_importance_df = pd.DataFrame({\n",
    "        'Feature': feature_columns,\n",
    "        'Importance': normalized_importance.values\n",
    "    }).sort_values('Importance', ascending=False)\n",
    "    \n",
    "    print(f\"\\\\n特征重要性分析（基于特征方差）:\")\n",
    "    print(\"前20个重要特征:\")\n",
    "    display(feature_importance_df.head(20))"
   ]
  },
  {
   "cell_type": "code",
   "execution_count": 21,
   "id": "a49a3f40",
   "metadata": {},
   "outputs": [
    {
     "data": {
      "image/png": "[encoded data removed]",
      "text/plain": [
       "<Figure size 1200x800 with 1 Axes>"
      ]
     },
     "metadata": {},
     "output_type": "display_data"
    },
    {
     "name": "stdout",
     "output_type": "stream",
     "text": [
      "\\n随机生存森林模型参数:\n",
      "树的数量: 100\n",
      "最大深度: 5\n",
      "最小分裂样本数: 10\n",
      "最小叶子样本数: 5\n",
      "特征选择策略: sqrt\n",
      "未计算袋外错误\n"
     ]
    }
   ],
   "source": [
    "# 可视化特征重要性\n",
    "plt.figure(figsize=(12, 8))\n",
    "top_features_rsf = feature_importance_df.head(15)\n",
    "feature_names_rsf = [name[:20] + '...' if len(name) > 20 else name for name in top_features_rsf['Feature']]\n",
    "\n",
    "plt.barh(range(len(top_features_rsf)), top_features_rsf['Importance'], color='lightcoral')\n",
    "plt.yticks(range(len(top_features_rsf)), feature_names_rsf)\n",
    "plt.xlabel('特征重要性')\n",
    "plt.title('随机生存森林模型 - 前15个重要特征')\n",
    "plt.tight_layout()\n",
    "plt.savefig('../reports/rsf_feature_importance.png', dpi=300, bbox_inches='tight')\n",
    "plt.show()\n",
    "\n",
    "# 模型参数信息\n",
    "print(f\"\\\\n随机生存森林模型参数:\")\n",
    "print(f\"树的数量: {rsf_model.n_estimators}\")\n",
    "print(f\"最大深度: {rsf_model.max_depth}\")\n",
    "print(f\"最小分裂样本数: {rsf_model.min_samples_split}\")\n",
    "print(f\"最小叶子样本数: {rsf_model.min_samples_leaf}\")\n",
    "print(f\"特征选择策略: {rsf_model.max_features}\")\n",
    "\n",
    "# 检查模型的袋外错误估计\n",
    "if hasattr(rsf_model, 'oob_score_'):\n",
    "    print(f\"袋外C-index: {rsf_model.oob_score_:.4f}\")\n",
    "else:\n",
    "    print(\"未计算袋外错误\")"
   ]
  },
  {
   "cell_type": "markdown",
   "id": "e57e5424",
   "metadata": {},
   "source": [
    "## 4. 模型比较和风险分层"
   ]
  },
  {
   "cell_type": "code",
   "execution_count": 22,
   "id": "2a69f9af",
   "metadata": {},
   "outputs": [
    {
     "name": "stdout",
     "output_type": "stream",
     "text": [
      "传统模型性能比较:\n"
     ]
    },
    {
     "data": {
      "application/vnd.microsoft.datawrangler.viewer.v0+json": {
       "columns": [
        {
         "name": "index",
         "rawType": "int64",
         "type": "integer"
        },
        {
         "name": "Model",
         "rawType": "object",
         "type": "string"
        },
        {
         "name": "Train_C_Index",
         "rawType": "float64",
         "type": "float"
        },
        {
         "name": "Test_C_Index",
         "rawType": "float64",
         "type": "float"
        }
       ],
       "ref": "369dbda0-f122-49ef-90b4-8817f63a39c7",
       "rows": [
        [
         "0",
         "Cox Regression",
         "0.36282224639648364",
         "0.3806331836618212"
        ],
        [
         "1",
         "Random Survival Forest",
         "0.6709016258018703",
         "0.6250052446867422"
        ]
       ],
       "shape": {
        "columns": 3,
        "rows": 2
       }
      },
      "text/html": [
       "<div>\n",
       "<style scoped>\n",
       "    .dataframe tbody tr th:only-of-type {\n",
       "        vertical-align: middle;\n",
       "    }\n",
       "\n",
       "    .dataframe tbody tr th {\n",
       "        vertical-align: top;\n",
       "    }\n",
       "\n",
       "    .dataframe thead th {\n",
       "        text-align: right;\n",
       "    }\n",
       "</style>\n",
       "<table border=\"1\" class=\"dataframe\">\n",
       "  <thead>\n",
       "    <tr style=\"text-align: right;\">\n",
       "      <th></th>\n",
       "      <th>Model</th>\n",
       "      <th>Train_C_Index</th>\n",
       "      <th>Test_C_Index</th>\n",
       "    </tr>\n",
       "  </thead>\n",
       "  <tbody>\n",
       "    <tr>\n",
       "      <th>0</th>\n",
       "      <td>Cox Regression</td>\n",
       "      <td>0.362822</td>\n",
       "      <td>0.380633</td>\n",
       "    </tr>\n",
       "    <tr>\n",
       "      <th>1</th>\n",
       "      <td>Random Survival Forest</td>\n",
       "      <td>0.670902</td>\n",
       "      <td>0.625005</td>\n",
       "    </tr>\n",
       "  </tbody>\n",
       "</table>\n",
       "</div>"
      ],
      "text/plain": [
       "                    Model  Train_C_Index  Test_C_Index\n",
       "0          Cox Regression       0.362822      0.380633\n",
       "1  Random Survival Forest       0.670902      0.625005"
      ]
     },
     "metadata": {},
     "output_type": "display_data"
    },
    {
     "data": {
      "image/png": "[encoded data removed]",
      "text/plain": [
       "<Figure size 1000x600 with 1 Axes>"
      ]
     },
     "metadata": {},
     "output_type": "display_data"
    },
    {
     "name": "stdout",
     "output_type": "stream",
     "text": [
      "\\n风险分层分析:\n",
      "风险分层统计:\n"
     ]
    },
    {
     "data": {
      "application/vnd.microsoft.datawrangler.viewer.v0+json": {
       "columns": [
        {
         "name": "index",
         "rawType": "int64",
         "type": "integer"
        },
        {
         "name": "Model",
         "rawType": "object",
         "type": "string"
        },
        {
         "name": "Group",
         "rawType": "object",
         "type": "string"
        },
        {
         "name": "Sample_Count",
         "rawType": "int64",
         "type": "integer"
        },
        {
         "name": "Event_Rate",
         "rawType": "float64",
         "type": "float"
        },
        {
         "name": "Median_Duration",
         "rawType": "float64",
         "type": "float"
        }
       ],
       "ref": "8b4739f1-3662-409d-a53e-524be6023d63",
       "rows": [
        [
         "0",
         "Cox",
         "Group 0",
         "1333",
         "0.1177794448612153",
         "30.0"
        ],
        [
         "1",
         "Cox",
         "Group 1",
         "1333",
         "0.4876219054763691",
         "29.0"
        ],
        [
         "2",
         "Cox",
         "Group 2",
         "1334",
         "0.48050974512743627",
         "31.0"
        ],
        [
         "3",
         "RSF",
         "Group 0",
         "1333",
         "0.09902475618904726",
         "30.0"
        ],
        [
         "4",
         "RSF",
         "Group 1",
         "1333",
         "0.5018754688672168",
         "29.0"
        ],
        [
         "5",
         "RSF",
         "Group 2",
         "1334",
         "0.48500749625187406",
         "31.0"
        ]
       ],
       "shape": {
        "columns": 5,
        "rows": 6
       }
      },
      "text/html": [
       "<div>\n",
       "<style scoped>\n",
       "    .dataframe tbody tr th:only-of-type {\n",
       "        vertical-align: middle;\n",
       "    }\n",
       "\n",
       "    .dataframe tbody tr th {\n",
       "        vertical-align: top;\n",
       "    }\n",
       "\n",
       "    .dataframe thead th {\n",
       "        text-align: right;\n",
       "    }\n",
       "</style>\n",
       "<table border=\"1\" class=\"dataframe\">\n",
       "  <thead>\n",
       "    <tr style=\"text-align: right;\">\n",
       "      <th></th>\n",
       "      <th>Model</th>\n",
       "      <th>Group</th>\n",
       "      <th>Sample_Count</th>\n",
       "      <th>Event_Rate</th>\n",
       "      <th>Median_Duration</th>\n",
       "    </tr>\n",
       "  </thead>\n",
       "  <tbody>\n",
       "    <tr>\n",
       "      <th>0</th>\n",
       "      <td>Cox</td>\n",
       "      <td>Group 0</td>\n",
       "      <td>1333</td>\n",
       "      <td>0.117779</td>\n",
       "      <td>30.0</td>\n",
       "    </tr>\n",
       "    <tr>\n",
       "      <th>1</th>\n",
       "      <td>Cox</td>\n",
       "      <td>Group 1</td>\n",
       "      <td>1333</td>\n",
       "      <td>0.487622</td>\n",
       "      <td>29.0</td>\n",
       "    </tr>\n",
       "    <tr>\n",
       "      <th>2</th>\n",
       "      <td>Cox</td>\n",
       "      <td>Group 2</td>\n",
       "      <td>1334</td>\n",
       "      <td>0.480510</td>\n",
       "      <td>31.0</td>\n",
       "    </tr>\n",
       "    <tr>\n",
       "      <th>3</th>\n",
       "      <td>RSF</td>\n",
       "      <td>Group 0</td>\n",
       "      <td>1333</td>\n",
       "      <td>0.099025</td>\n",
       "      <td>30.0</td>\n",
       "    </tr>\n",
       "    <tr>\n",
       "      <th>4</th>\n",
       "      <td>RSF</td>\n",
       "      <td>Group 1</td>\n",
       "      <td>1333</td>\n",
       "      <td>0.501875</td>\n",
       "      <td>29.0</td>\n",
       "    </tr>\n",
       "    <tr>\n",
       "      <th>5</th>\n",
       "      <td>RSF</td>\n",
       "      <td>Group 2</td>\n",
       "      <td>1334</td>\n",
       "      <td>0.485007</td>\n",
       "      <td>31.0</td>\n",
       "    </tr>\n",
       "  </tbody>\n",
       "</table>\n",
       "</div>"
      ],
      "text/plain": [
       "  Model    Group  Sample_Count  Event_Rate  Median_Duration\n",
       "0   Cox  Group 0          1333    0.117779             30.0\n",
       "1   Cox  Group 1          1333    0.487622             29.0\n",
       "2   Cox  Group 2          1334    0.480510             31.0\n",
       "3   RSF  Group 0          1333    0.099025             30.0\n",
       "4   RSF  Group 1          1333    0.501875             29.0\n",
       "5   RSF  Group 2          1334    0.485007             31.0"
      ]
     },
     "metadata": {},
     "output_type": "display_data"
    }
   ],
   "source": [
    "# 模型性能比较\n",
    "performance_comparison = pd.DataFrame({\n",
    "    'Model': ['Cox Regression', 'Random Survival Forest'],\n",
    "    'Train_C_Index': [cox_train_c_index, rsf_train_c_index],\n",
    "    'Test_C_Index': [cox_test_c_index, rsf_test_c_index]\n",
    "})\n",
    "\n",
    "print(\"传统模型性能比较:\")\n",
    "display(performance_comparison)\n",
    "\n",
    "# 可视化模型性能比较\n",
    "fig, ax = plt.subplots(1, 1, figsize=(10, 6))\n",
    "x = np.arange(len(performance_comparison))\n",
    "width = 0.35\n",
    "\n",
    "bars1 = ax.bar(x - width/2, performance_comparison['Train_C_Index'], width, \n",
    "               label='Training C-index', alpha=0.8, color='skyblue')\n",
    "bars2 = ax.bar(x + width/2, performance_comparison['Test_C_Index'], width,\n",
    "               label='Test C-index', alpha=0.8, color='lightcoral')\n",
    "\n",
    "ax.set_xlabel('模型')\n",
    "ax.set_ylabel('C-index')\n",
    "ax.set_title('传统生存分析模型性能比较')\n",
    "ax.set_xticks(x)\n",
    "ax.set_xticklabels(performance_comparison['Model'])\n",
    "ax.legend()\n",
    "ax.grid(True, alpha=0.3)\n",
    "\n",
    "# 添加数值标签\n",
    "for bar in bars1:\n",
    "    height = bar.get_height()\n",
    "    ax.text(bar.get_x() + bar.get_width()/2., height + 0.005,\n",
    "            f'{height:.3f}', ha='center', va='bottom', fontsize=10)\n",
    "\n",
    "for bar in bars2:\n",
    "    height = bar.get_height()\n",
    "    ax.text(bar.get_x() + bar.get_width()/2., height + 0.005,\n",
    "            f'{height:.3f}', ha='center', va='bottom', fontsize=10)\n",
    "\n",
    "plt.tight_layout()\n",
    "plt.savefig('../reports/traditional_models_comparison.png', dpi=300, bbox_inches='tight')\n",
    "plt.show()\n",
    "\n",
    "# 风险分层分析函数\n",
    "def create_risk_groups(risk_scores, n_groups=3):\n",
    "    \"\"\"创建风险分组\"\"\"\n",
    "    quantiles = np.quantile(risk_scores, np.linspace(0, 1, n_groups + 1))\n",
    "    risk_groups = np.digitize(risk_scores, quantiles[1:-1])\n",
    "    return risk_groups\n",
    "\n",
    "# Cox模型风险分层\n",
    "cox_risk_groups = create_risk_groups(cox_test_risks)\n",
    "rsf_risk_groups = create_risk_groups(rsf_test_risks)\n",
    "\n",
    "print(\"\\\\n风险分层分析:\")\n",
    "\n",
    "# Cox模型风险分层统计\n",
    "cox_risk_stats = []\n",
    "for group in range(3):\n",
    "    mask = cox_risk_groups == group\n",
    "    group_durations = y_test_duration[mask]\n",
    "    group_events = y_test_event[mask]\n",
    "    \n",
    "    stats = {\n",
    "        'Model': 'Cox',\n",
    "        'Group': f'Group {group}',\n",
    "        'Sample_Count': mask.sum(),\n",
    "        'Event_Rate': group_events.mean(),\n",
    "        'Median_Duration': np.median(group_durations)\n",
    "    }\n",
    "    cox_risk_stats.append(stats)\n",
    "\n",
    "# RSF模型风险分层统计\n",
    "rsf_risk_stats = []\n",
    "for group in range(3):\n",
    "    mask = rsf_risk_groups == group\n",
    "    group_durations = y_test_duration[mask]\n",
    "    group_events = y_test_event[mask]\n",
    "    \n",
    "    stats = {\n",
    "        'Model': 'RSF',\n",
    "        'Group': f'Group {group}',\n",
    "        'Sample_Count': mask.sum(),\n",
    "        'Event_Rate': group_events.mean(),\n",
    "        'Median_Duration': np.median(group_durations)\n",
    "    }\n",
    "    rsf_risk_stats.append(stats)\n",
    "\n",
    "risk_stats_df = pd.DataFrame(cox_risk_stats + rsf_risk_stats)\n",
    "print(\"风险分层统计:\")\n",
    "display(risk_stats_df)"
   ]
  },
  {
   "cell_type": "markdown",
   "id": "0dca102d",
   "metadata": {},
   "source": [
    "## 5. 保存模型和结果"
   ]
  },
  {
   "cell_type": "code",
   "execution_count": 23,
   "id": "5c99686e",
   "metadata": {},
   "outputs": [
    {
     "name": "stdout",
     "output_type": "stream",
     "text": [
      "模型保存完成！\n",
      "\\n传统模型训练和评估完成！\n",
      "文件保存位置:\n",
      "- Cox模型: ../model/cox_model.pkl\n",
      "- RSF模型: ../model/rsf_model.pkl\n",
      "- Cox预测结果: ../data/processed/cox_predictions.csv\n",
      "- RSF预测结果: ../data/processed/rsf_predictions.csv\n",
      "- 性能比较: ../data/processed/traditional_models_performance.csv\n",
      "- 模型总结: ../reports/traditional_models_summary.txt\n"
     ]
    }
   ],
   "source": [
    "# 创建目录\n",
    "os.makedirs('../model', exist_ok=True)\n",
    "os.makedirs('../reports', exist_ok=True)\n",
    "\n",
    "# 保存Cox模型\n",
    "with open('../model/cox_model.pkl', 'wb') as f:\n",
    "    pickle.dump(cox_model, f)\n",
    "\n",
    "# 保存随机生存森林模型\n",
    "with open('../model/rsf_model.pkl', 'wb') as f:\n",
    "    pickle.dump(rsf_model, f)\n",
    "\n",
    "print(\"模型保存完成！\")\n",
    "\n",
    "# 保存预测结果\n",
    "cox_predictions = pd.DataFrame({\n",
    "    'PatientID': test_data.index if 'PatientID' not in test_data.columns else test_data['PatientID'],\n",
    "    'Duration': y_test_duration,\n",
    "    'Event': y_test_event,\n",
    "    'Cox_Risk_Score': cox_test_risks,\n",
    "    'Cox_Risk_Group': cox_risk_groups\n",
    "})\n",
    "\n",
    "rsf_predictions = pd.DataFrame({\n",
    "    'PatientID': test_data.index if 'PatientID' not in test_data.columns else test_data['PatientID'],\n",
    "    'Duration': y_test_duration,\n",
    "    'Event': y_test_event,\n",
    "    'RSF_Risk_Score': rsf_test_risks,\n",
    "    'RSF_Risk_Group': rsf_risk_groups\n",
    "})\n",
    "\n",
    "cox_predictions.to_csv('../data/processed/cox_predictions.csv', index=False)\n",
    "rsf_predictions.to_csv('../data/processed/rsf_predictions.csv', index=False)\n",
    "\n",
    "# 保存性能比较结果\n",
    "performance_comparison.to_csv('../data/processed/traditional_models_performance.csv', index=False)\n",
    "risk_stats_df.to_csv('../data/processed/traditional_models_risk_stats.csv', index=False)\n",
    "\n",
    "# 保存模型总结报告\n",
    "with open('../reports/traditional_models_summary.txt', 'w', encoding='utf-8') as f:\n",
    "    f.write(\"传统生存分析模型总结报告\\\\n\")\n",
    "    f.write(\"=\" * 40 + \"\\\\n\\\\n\")\n",
    "    \n",
    "    f.write(\"Cox回归模型:\\\\n\")\n",
    "    f.write(f\"- 训练集C-index: {cox_train_c_index:.4f}\\\\n\")\n",
    "    f.write(f\"- 测试集C-index: {cox_test_c_index:.4f}\\\\n\")\n",
    "    f.write(f\"- 正则化参数: {cox_model.penalizer}\\\\n\")\n",
    "    f.write(f\"- AIC: {cox_model.AIC_partial_:.4f}\\\\n\")\n",
    "    f.write(f\"- 显著特征数量: {len(significant_features)}\\\\n\\\\n\")\n",
    "    \n",
    "    f.write(\"随机生存森林模型:\\\\n\")\n",
    "    f.write(f\"- 训练集C-index: {rsf_train_c_index:.4f}\\\\n\")\n",
    "    f.write(f\"- 测试集C-index: {rsf_test_c_index:.4f}\\\\n\")\n",
    "    f.write(f\"- 树的数量: {rsf_model.n_estimators}\\\\n\")\n",
    "    f.write(f\"- 最大深度: {rsf_model.max_depth}\\\\n\")\n",
    "    f.write(f\"- 特征选择策略: {rsf_model.max_features}\\\\n\\\\n\")\n",
    "    \n",
    "    f.write(\"风险分层统计:\\\\n\")\n",
    "    f.write(risk_stats_df.to_string(index=False))\n",
    "\n",
    "print(\"\\\\n传统模型训练和评估完成！\")\n",
    "print(\"文件保存位置:\")\n",
    "print(\"- Cox模型: ../model/cox_model.pkl\")\n",
    "print(\"- RSF模型: ../model/rsf_model.pkl\")\n",
    "print(\"- Cox预测结果: ../data/processed/cox_predictions.csv\")\n",
    "print(\"- RSF预测结果: ../data/processed/rsf_predictions.csv\")\n",
    "print(\"- 性能比较: ../data/processed/traditional_models_performance.csv\")\n",
    "print(\"- 模型总结: ../reports/traditional_models_summary.txt\")"
   ]
  }
 ],
 "metadata": {
  "kernelspec": {
   "display_name": "Python 3",
   "language": "python",
   "name": "python3"
  },
  "language_info": {
   "codemirror_mode": {
    "name": "ipython",
    "version": 3
   },
   "file_extension": ".py",
   "mimetype": "text/x-python",
   "name": "python",
   "nbconvert_exporter": "python",
   "pygments_lexer": "ipython3",
   "version": "3.10.12"
  }
 },
 "nbformat": 4,
 "nbformat_minor": 5
}
